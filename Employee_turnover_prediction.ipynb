{
 "cells": [
  {
   "cell_type": "markdown",
   "id": "05ac94e7",
   "metadata": {},
   "source": [
    "# Employee turnover prediction"
   ]
  },
  {
   "cell_type": "code",
   "execution_count": null,
   "id": "d24bbf44",
   "metadata": {},
   "outputs": [],
   "source": [
    "#required  librareris\n",
    "\n",
    "import pandas as pd\n",
    "import numpy as np\n",
    "import matplotlib.pyplot as plt\n",
    "import seaborn as sns\n",
    "%matplotlib inline"
   ]
  },
  {
   "cell_type": "code",
   "execution_count": null,
   "id": "e79f577f",
   "metadata": {},
   "outputs": [],
   "source": [
    "df = pd.read_csv(r\"C:\\Users\\HARDIK\\Documents\\Techno_hacks\\Employee turnover prediction\\WA_Fn-UseC_-HR-Employee-Attrition.csv\")"
   ]
  },
  {
   "cell_type": "code",
   "execution_count": null,
   "id": "3a15cc61",
   "metadata": {},
   "outputs": [],
   "source": [
    "df.head(5)"
   ]
  },
  {
   "cell_type": "code",
   "execution_count": null,
   "id": "f7d4c6b0",
   "metadata": {},
   "outputs": [],
   "source": [
    "df.tail(5)"
   ]
  },
  {
   "cell_type": "code",
   "execution_count": null,
   "id": "1b53c0a0",
   "metadata": {},
   "outputs": [],
   "source": [
    "df.shape"
   ]
  },
  {
   "cell_type": "code",
   "execution_count": null,
   "id": "dd7d9a9a",
   "metadata": {},
   "outputs": [],
   "source": [
    "#remove Employenumber .....(dot)\n",
    "pd.set_option('display.max_columns',None )"
   ]
  },
  {
   "cell_type": "code",
   "execution_count": null,
   "id": "a0705620",
   "metadata": {},
   "outputs": [],
   "source": [
    "df.head(1)"
   ]
  },
  {
   "cell_type": "code",
   "execution_count": null,
   "id": "edbcd70f",
   "metadata": {},
   "outputs": [],
   "source": [
    "df.info()"
   ]
  },
  {
   "cell_type": "code",
   "execution_count": null,
   "id": "c96194e1",
   "metadata": {},
   "outputs": [],
   "source": [
    "df.describe()"
   ]
  },
  {
   "cell_type": "code",
   "execution_count": null,
   "id": "9571cc42",
   "metadata": {},
   "outputs": [],
   "source": [
    "#checking null values\n",
    "\n",
    "df.isnull().sum()"
   ]
  },
  {
   "cell_type": "code",
   "execution_count": null,
   "id": "2a624c4f",
   "metadata": {},
   "outputs": [],
   "source": [
    "plt.figure(figsize=(10,5))\n",
    "sns.countplot(y = \"Attrition\", data=df )"
   ]
  },
  {
   "cell_type": "code",
   "execution_count": null,
   "id": "e56a0bd1",
   "metadata": {},
   "outputs": [],
   "source": [
    "#Depatrment  attriation\n",
    "\n",
    "plt.figure(figsize=(12,5))\n",
    "plt.title(\"department VS Attrition\")\n",
    "sns.countplot(x= \"Department\", hue= \"Attrition\", data= df, palette = 'hot')"
   ]
  },
  {
   "cell_type": "code",
   "execution_count": null,
   "id": "df354ce3",
   "metadata": {},
   "outputs": [],
   "source": [
    "plt.figure(figsize=(12,5))\n",
    "plt.title(\"EducationField VS Attrition\")\n",
    "sns.countplot(x= \"EducationField\", hue= \"Attrition\", data= df, palette = 'hot')"
   ]
  },
  {
   "cell_type": "code",
   "execution_count": null,
   "id": "7b7f460d",
   "metadata": {},
   "outputs": [],
   "source": [
    "plt.figure(figsize=(12,5))\n",
    "plt.title(\"JobRole VS Attrition\")\n",
    "plt.xticks(rotation=45)\n",
    "sns.countplot(x= \"JobRole\", hue= \"Attrition\", data= df, palette = 'hot')"
   ]
  },
  {
   "cell_type": "code",
   "execution_count": null,
   "id": "50c0b7ef",
   "metadata": {},
   "outputs": [],
   "source": [
    "plt.figure(figsize=(12,5))\n",
    "plt.title(\"Gender VS Attrition\")\n",
    "plt.xticks(rotation=45)\n",
    "sns.countplot(x= \"Gender\", hue= \"Attrition\", data= df, palette = 'hot')"
   ]
  },
  {
   "cell_type": "code",
   "execution_count": null,
   "id": "b4af254f",
   "metadata": {},
   "outputs": [],
   "source": [
    "df['Gender'].value_counts()"
   ]
  },
  {
   "cell_type": "code",
   "execution_count": null,
   "id": "1116e32b",
   "metadata": {},
   "outputs": [],
   "source": [
    "df['count'] = 1"
   ]
  },
  {
   "cell_type": "code",
   "execution_count": null,
   "id": "82914843",
   "metadata": {},
   "outputs": [],
   "source": [
    "df.groupby([\"Gender\", \"Attrition\"]).agg({\"count\":\"sum\"})"
   ]
  },
  {
   "cell_type": "code",
   "execution_count": null,
   "id": "ea8a2a01",
   "metadata": {},
   "outputs": [],
   "source": [
    "plt.figure(figsize =(12,5))\n",
    "sns.distplot(df[\"Age\"],hist=False)\n",
    "plt.show"
   ]
  },
  {
   "cell_type": "code",
   "execution_count": null,
   "id": "5fa48b00",
   "metadata": {},
   "outputs": [],
   "source": [
    "ordinal_features = ['Education','EnvironmentSatisfaction','JobInvolvement', 'JobSatisfaction','PerformanceRating',\n",
    "                    \"RelationshipSatisfaction\", \"WorkLifeBalance\"  ]"
   ]
  },
  {
   "cell_type": "code",
   "execution_count": null,
   "id": "2a720b53",
   "metadata": {},
   "outputs": [],
   "source": [
    "df[ordinal_features].head(5)"
   ]
  },
  {
   "cell_type": "code",
   "execution_count": null,
   "id": "3d9a2652",
   "metadata": {},
   "outputs": [],
   "source": [
    "edu_map = {1:'Below Collage', 2: 'collage', 3: 'Bachalore',4:'master', 5: 'Doctor' }\n",
    "plt.figure(figsize=(12,5))\n",
    "sns.countplot(x=df[\"Education\"].map(edu_map), hue=\"Attrition\", data=df )\n",
    "plt.title(\"education W.R.T Attrition\")"
   ]
  },
  {
   "cell_type": "markdown",
   "id": "c169a7de",
   "metadata": {},
   "source": [
    "# Label encoding"
   ]
  },
  {
   "cell_type": "code",
   "execution_count": null,
   "id": "c34da8f5",
   "metadata": {},
   "outputs": [],
   "source": [
    "#Target variable\n",
    "\n",
    "df['Attrition'] = df ['Attrition'].replace({'No':0,'Yes': 1})"
   ]
  },
  {
   "cell_type": "code",
   "execution_count": null,
   "id": "16399ade",
   "metadata": {},
   "outputs": [],
   "source": [
    "#Encode binary variables\n",
    "\n",
    "df['OverTime'] = df['OverTime'].map({'No':0,'Yes': 1})\n",
    "df['Gender'] = df['Gender'].map({'Male':0,'Female': 1})\n"
   ]
  },
  {
   "cell_type": "code",
   "execution_count": null,
   "id": "db40710a",
   "metadata": {},
   "outputs": [],
   "source": [
    "df['Over18'] = df['Over18'].map({'No':0,'Y': 1})"
   ]
  },
  {
   "cell_type": "code",
   "execution_count": null,
   "id": "a92670ad",
   "metadata": {},
   "outputs": [],
   "source": [
    "from sklearn.preprocessing import LabelEncoder\n",
    "\n",
    "Encoding_cols = ['BusinessTravel', 'Department', 'EducationField','JobRole',  'MaritalStatus']\n",
    "label_encoders = {}\n",
    "for column in Encoding_cols:\n",
    "    label_encoders[column] = LabelEncoder()\n",
    "    df[column]=  label_encoders[column].fit_transform(df[column])"
   ]
  },
  {
   "cell_type": "code",
   "execution_count": null,
   "id": "e5ab290c",
   "metadata": {},
   "outputs": [],
   "source": [
    "df.head()"
   ]
  },
  {
   "cell_type": "code",
   "execution_count": null,
   "id": "f90f7281",
   "metadata": {},
   "outputs": [],
   "source": [
    "df['Over18'].value_counts()"
   ]
  },
  {
   "cell_type": "code",
   "execution_count": null,
   "id": "9b5e2da6",
   "metadata": {},
   "outputs": [],
   "source": [
    "df.info()"
   ]
  },
  {
   "cell_type": "code",
   "execution_count": null,
   "id": "e88b108b",
   "metadata": {},
   "outputs": [],
   "source": [
    "#Spliting the data into training into testing\n",
    "\n",
    "X = df.drop(['Attrition', 'Over18'], axis = 1)\n",
    "y = df['Attrition']\n"
   ]
  },
  {
   "cell_type": "code",
   "execution_count": null,
   "id": "243586d6",
   "metadata": {},
   "outputs": [],
   "source": [
    "#from collections import Counter\n",
    "#from imblearn.over_sampling import RandomOverSampler\n",
    "\n",
    "#print(Counter(y))\n",
    "\n",
    "#run =  RandomOverSampler(random_state = 42)\n",
    "#X_over, y_over = run.fit_resample(X, y)\n",
    "#print(Counter(y_over))"
   ]
  },
  {
   "cell_type": "code",
   "execution_count": null,
   "id": "685edd04",
   "metadata": {},
   "outputs": [],
   "source": [
    "#Spliting the data in to training and testing\n",
    "\n",
    "from sklearn.model_selection import train_test_split\n",
    "X_train, X_test, y_train, y_test,  = train_test_split(X, y, test_size = 0.2, random_state = 42)"
   ]
  },
  {
   "cell_type": "code",
   "execution_count": null,
   "id": "b067999c",
   "metadata": {},
   "outputs": [],
   "source": [
    "print(X_train.shape)\n",
    "print(X_test.shape)\n",
    "print(y_train.shape)\n",
    "print(y_test.shape)"
   ]
  },
  {
   "cell_type": "markdown",
   "id": "610632c2",
   "metadata": {},
   "source": [
    "# Modeling"
   ]
  },
  {
   "cell_type": "code",
   "execution_count": null,
   "id": "ca31fa47",
   "metadata": {},
   "outputs": [],
   "source": [
    "from sklearn.linear_model import LogisticRegression\n",
    "from sklearn.metrics import confusion_matrix, accuracy_score, roc_curve, roc_auc_score"
   ]
  },
  {
   "cell_type": "code",
   "execution_count": null,
   "id": "c9380ddb",
   "metadata": {},
   "outputs": [],
   "source": [
    "l_r = LogisticRegression()"
   ]
  },
  {
   "cell_type": "code",
   "execution_count": null,
   "id": "564912e8",
   "metadata": {},
   "outputs": [],
   "source": [
    "l_r.fit(X_train, y_train)"
   ]
  },
  {
   "cell_type": "code",
   "execution_count": null,
   "id": "e6a933db",
   "metadata": {},
   "outputs": [],
   "source": [
    "prediction = l_r.predict(X_test)\n",
    "cnf_matrix = confusion_matrix,(y_test, prediction)\n",
    "print(\"Accuracy score is =\" , accuracy_score(y_test, prediction) )"
   ]
  },
  {
   "cell_type": "code",
   "execution_count": null,
   "id": "d93ee8d8",
   "metadata": {},
   "outputs": [],
   "source": []
  },
  {
   "cell_type": "code",
   "execution_count": null,
   "id": "5dc2674b",
   "metadata": {},
   "outputs": [],
   "source": []
  }
 ],
 "metadata": {
  "kernelspec": {
   "display_name": "Python 3 (ipykernel)",
   "language": "python",
   "name": "python3"
  },
  "language_info": {
   "codemirror_mode": {
    "name": "ipython",
    "version": 3
   },
   "file_extension": ".py",
   "mimetype": "text/x-python",
   "name": "python",
   "nbconvert_exporter": "python",
   "pygments_lexer": "ipython3",
   "version": "3.9.13"
  }
 },
 "nbformat": 4,
 "nbformat_minor": 5
}
